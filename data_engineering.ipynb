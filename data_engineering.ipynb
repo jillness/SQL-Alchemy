{
 "cells": [
  {
   "cell_type": "code",
   "execution_count": 1,
   "metadata": {
    "collapsed": true
   },
   "outputs": [],
   "source": [
    "import pandas as pd\n"
   ]
  },
  {
   "cell_type": "markdown",
   "metadata": {},
   "source": [
    "Use Pandas to read in the measurement and station CSV files as DataFrames.\n",
    "Inspect the data for NaNs and missing values. You must decide what to do with this data.\n",
    "Save your cleaned CSV files with the prefix clean_."
   ]
  },
  {
   "cell_type": "code",
   "execution_count": 3,
   "metadata": {
    "collapsed": true
   },
   "outputs": [],
   "source": [
    "path = '02-Homework/11-Adv-Data-Storage-Retrieval/Instructions/Resources/'\n",
    "HA_measurements_raw = pd.read_csv(path + 'hawaii_measurements.csv')\n",
    "HA_stations_raw = pd.read_csv(path + 'hawaii_stations.csv')"
   ]
  },
  {
   "cell_type": "code",
   "execution_count": 10,
   "metadata": {
    "collapsed": true
   },
   "outputs": [],
   "source": [
    "clean_HA_measurements = HA_measurements_raw.dropna()\n",
    "clean_HA_stations = HA_stations_raw.dropna()"
   ]
  },
  {
   "cell_type": "code",
   "execution_count": 19,
   "metadata": {},
   "outputs": [
    {
     "name": "stdout",
     "output_type": "stream",
     "text": [
      "<class 'pandas.core.frame.DataFrame'>\n",
      "Int64Index: 18103 entries, 0 to 19549\n",
      "Data columns (total 4 columns):\n",
      "station    18103 non-null object\n",
      "date       18103 non-null object\n",
      "prcp       18103 non-null float64\n",
      "tobs       18103 non-null int64\n",
      "dtypes: float64(1), int64(1), object(2)\n",
      "memory usage: 707.1+ KB\n"
     ]
    }
   ],
   "source": [
    "clean_HA_measurements.info()"
   ]
  },
  {
   "cell_type": "code",
   "execution_count": 22,
   "metadata": {
    "collapsed": true
   },
   "outputs": [],
   "source": [
    "clean_HA_measurements.to_csv('clean_HA_measurements.csv')\n",
    "clean_HA_stations.to_csv('clean_HA_stations.csv')"
   ]
  }
 ],
 "metadata": {
  "kernelspec": {
   "display_name": "Python 3",
   "language": "python",
   "name": "python3"
  },
  "language_info": {
   "codemirror_mode": {
    "name": "ipython",
    "version": 3
   },
   "file_extension": ".py",
   "mimetype": "text/x-python",
   "name": "python",
   "nbconvert_exporter": "python",
   "pygments_lexer": "ipython3",
   "version": "3.6.3"
  }
 },
 "nbformat": 4,
 "nbformat_minor": 2
}
